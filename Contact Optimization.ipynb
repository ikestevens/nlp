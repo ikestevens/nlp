{
 "cells": [
  {
   "cell_type": "code",
   "execution_count": 1,
   "metadata": {},
   "outputs": [
    {
     "name": "stdout",
     "output_type": "stream",
     "text": [
      "showing info https://raw.githubusercontent.com/nltk/nltk_data/gh-pages/index.xml\n"
     ]
    }
   ],
   "source": [
    "import nltk\n",
    "from nltk.tokenize import sent_tokenize, word_tokenize\n",
    "nltk.download()\n",
    "from nltk import ngrams, FreqDist\n",
    "import re\n",
    "import string\n",
    "from multiprocessing import Pool\n",
    "from nltk.corpus import brown\n",
    "from nltk.stem import PorterStemmer\n",
    "import pandas as pd"
   ]
  },
  {
   "cell_type": "code",
   "execution_count": 2,
   "metadata": {},
   "outputs": [
    {
     "name": "stdout",
     "output_type": "stream",
     "text": [
      "Entire word list has 210687 words.\n",
      "['a', 'aa', 'aal', 'aalii', 'aam', 'aardvark', 'aardwolf', 'aba', 'abac', 'abaca', 'abacate', 'abacay', 'abacinate', 'abacination', 'abaciscus', 'abacist', 'aback', 'abactinal', 'abactinally', 'abaction', 'abactor', 'abaculus', 'abacus', 'abaff', 'abaft', 'abaisance', 'abaiser', 'abaissed', 'abalienate', 'abalienation', 'abalone', 'abampere', 'abandon', 'abandonable', 'abandoned', 'abandonedly', 'abandonee', 'abandoner', 'abandonment', 'abaptiston', 'abarthrosis', 'abarticular', 'abarticulation', 'abas', 'abase', 'abased', 'abasedly', 'abasedness', 'abasement', 'abaser', 'abash', 'abashed', 'abashedly', 'abashedness', 'abashless', 'abashlessly', 'abashment', 'abasia', 'abasic', 'abask', 'abastardize', 'abatable', 'abate', 'abatement', 'abater', 'abatis', 'abatised', 'abaton', 'abator', 'abattoir', 'abature', 'abave', 'abaxial', 'abaxile', 'abaze', 'abb', 'abbacomes', 'abbacy', 'abbas', 'abbasi', 'abbassi', 'abbatial', 'abbatical', 'abbess', 'abbey', 'abbeystede', 'abbot', 'abbotcy', 'abbotnullius', 'abbotship', 'abbreviate', 'abbreviately', 'abbreviation', 'abbreviator', 'abbreviatory', 'abbreviature', 'abcoulomb', 'abdal', 'abdat', 'abdest']\n"
     ]
    }
   ],
   "source": [
    "#Creating a wordlist with all the words for this script\n",
    "wordlist = [w for w in nltk.corpus.words.words('en') if w.islower()]\n",
    "print('Entire word list has {} words.'.format(len(set(wordlist))))\n",
    "print(wordlist[:100])\n",
    "#list of the alphabet to iterate through later\n",
    "alphabet = list(string.ascii_lowercase)"
   ]
  },
  {
   "cell_type": "code",
   "execution_count": 3,
   "metadata": {},
   "outputs": [
    {
     "name": "stdout",
     "output_type": "stream",
     "text": [
      "Entire stemmed word list has 156802 words.\n",
      "['a', 'aa', 'aal', 'aalii', 'aam', 'aardvark', 'aardwolf', 'aba', 'abac', 'abaca', 'abacay', 'abacin', 'abaciscu', 'abacist', 'aback', 'abactin', 'abact', 'abactor', 'abaculu', 'abacu', 'abaff', 'abaft', 'abais', 'abaiss', 'abalien', 'abalon', 'abamper', 'abandon', 'abandonedli', 'abandone', 'abaptiston', 'abarthrosi', 'abarticular', 'abarticul', 'abas', 'abasedli', 'abased', 'abash', 'abashedli', 'abashed', 'abashless', 'abashlessli', 'abasia', 'abask', 'abastard', 'abat', 'abati', 'abatis', 'abaton', 'abattoir', 'abatur', 'abav', 'abaxi', 'abaxil', 'abaz', 'abb', 'abbacom', 'abbaci', 'abba', 'abbasi', 'abbassi', 'abbati', 'abbat', 'abbess', 'abbey', 'abbeysted', 'abbot', 'abbotci', 'abbotnulliu', 'abbotship', 'abbrevi', 'abbreviatori', 'abbreviatur', 'abcoulomb', 'abdal', 'abdat', 'abdest', 'abdic', 'abdit', 'abditori', 'abdomen', 'abdomin', 'abdominalian', 'abdominoanterior', 'abdominocardiac', 'abdominocentesi', 'abdominocyst', 'abdominogenit', 'abdominohysterectomi', 'abdominohysterotomi', 'abdominoposterior', 'abdominoscop', 'abdominoscopi', 'abdominothorac', 'abdominovagin', 'abdominoves', 'abduc', 'abducen', 'abduct', 'abductor']\n"
     ]
    }
   ],
   "source": [
    "#Creating a stemmed word list to eliminate derivatives of words\n",
    "#Actually not going to use stemmed words for this analysis since the spelling of the words is integral in the game\n",
    "porter = PorterStemmer()\n",
    "stem_list = []\n",
    "for word in wordlist:\n",
    "    temp = porter.stem(word)\n",
    "    stem_list.append(temp)\n",
    "stem_list = list(dict.fromkeys(stem_list))\n",
    "print('Entire stemmed word list has {} words.'.format(len(stem_list)))\n",
    "print(stem_list[:100])"
   ]
  },
  {
   "cell_type": "code",
   "execution_count": 4,
   "metadata": {},
   "outputs": [],
   "source": [
    "def createWordList(letter):\n",
    "    '''\n",
    "    function to create the list of all the words that begin with that letter\n",
    "    '''\n",
    "    my_regex = '^' + re.escape(letter)\n",
    "    root_word = [w for w in wordlist if re.search(my_regex, w, re.IGNORECASE)]\n",
    "    \n",
    "    letter_list = []\n",
    "\n",
    "    for w in range(len(root_word)):\n",
    "        letter_list.append(root_word[w])\n",
    "        \n",
    "    return letter_list"
   ]
  },
  {
   "cell_type": "code",
   "execution_count": 111,
   "metadata": {},
   "outputs": [],
   "source": [
    "def getRoots(total_list, j):\n",
    "    '''\n",
    "    function to find the best root (most off-shoot words) for the given number of letters, along with the number of off-shoots\n",
    "    ex. If you say 4, how many words start with 'anti', how many start with 'alph', the root with the most words will be returned\n",
    "    '''\n",
    "    n = 0\n",
    "    m = 0\n",
    "    winner_root = None\n",
    "\n",
    "    for i in range(len(total_list)):\n",
    "        last_word = total_list[i-1]\n",
    "        word = total_list[i]\n",
    "        try:\n",
    "            if last_word[:j] == word[:j]:\n",
    "                n = n + 1                      \n",
    "            else:\n",
    "                #replace the winner root with the new one that has more off-shoots\n",
    "                if n > m:\n",
    "                    n = n + 1\n",
    "                    m = n\n",
    "                    winner_root = last_word[:j]\n",
    "                    print(winner_root + ': ' + str(m))\n",
    "                    n = 0\n",
    "                else:\n",
    "                    #if the word's root wasn't better then\n",
    "                    n = 0\n",
    "        except:\n",
    "            #This exception runs once because you can't see the i-1 word the first time\n",
    "            this = none\n",
    "            \n",
    "    p = 0\n",
    "    r = 0\n",
    "    second_winner = None\n",
    "            \n",
    "    total_list.reverse()\n",
    "    for i in range(len(total_list)):\n",
    "        last_word = total_list[i-1]\n",
    "        word = total_list[i]\n",
    "        try:\n",
    "            if last_word[:j] == word[:j]:\n",
    "                p = p + 1                      \n",
    "            else:\n",
    "                #replace the winner root with the new one that has more off-shoots\n",
    "                if p > r:\n",
    "                    p = p + 1\n",
    "                    r = p\n",
    "                    second_winner = last_word[:j]\n",
    "                    print(second_winner + ': ' + str(r))\n",
    "                    p = 0\n",
    "                else:\n",
    "                    #if the word's root wasn't better then\n",
    "                    p = 0\n",
    "        except:\n",
    "            #This exception runs once because you can't see the i-1 word the first time\n",
    "                continue\n",
    "                \n",
    "    if m > r:\n",
    "        return winner_root, m\n",
    "    else:\n",
    "        return second_winner, r"
   ]
  },
  {
   "cell_type": "code",
   "execution_count": 113,
   "metadata": {},
   "outputs": [
    {
     "name": "stdout",
     "output_type": "stream",
     "text": [
      "aard: 2\n",
      "abac: 15\n",
      "abas: 18\n",
      "abor: 22\n",
      "abso: 44\n",
      "acce: 71\n",
      "acet: 139\n",
      "acro: 144\n",
      "aero: 154\n",
      "afte: 160\n",
      "amph: 179\n",
      "ante: 187\n",
      "anth: 264\n",
      "anti: 1078\n",
      "inte: 1323\n",
      "over: 2043\n",
      "zyth: 2\n",
      "zymo: 34\n",
      "zygo: 62\n",
      "xant: 80\n",
      "wood: 102\n",
      "vent: 105\n",
      "untr: 190\n",
      "unsu: 232\n",
      "unst: 239\n",
      "unre: 604\n",
      "unde: 1334\n",
      "over: 2043\n"
     ]
    },
    {
     "data": {
      "text/plain": [
       "('over', 2043)"
      ]
     },
     "execution_count": 113,
     "metadata": {},
     "output_type": "execute_result"
    }
   ],
   "source": [
    "getRoots(wordlist, 4)"
   ]
  },
  {
   "cell_type": "code",
   "execution_count": 98,
   "metadata": {},
   "outputs": [],
   "source": [
    "def bestRoots(rootNumber):\n",
    "    '''\n",
    "    input: number for how many letters in root\n",
    "    output: the best root with the most off-shoot words for every letter, along with the count of how many off-shoot words\n",
    "    '''\n",
    "    root = []\n",
    "    for i in range(len(alphabet)):\n",
    "        root.append(getRoots(createWordList(alphabet[i]), rootNumber))\n",
    "        #print(getRoots(createWordList(alphabet[i]), rootNumber))\n",
    "    \n",
    "    df = pd.DataFrame(root)\n",
    "    df.columns = ['Root' + str(rootNumber), 'Count' + str(rootNumber)]\n",
    "    df.rename(index = {0: 'a', 1: 'b', 2: 'c', 3: 'd', 4: 'e', 5: 'f', 6: 'g', 7: 'h', 8: 'i', 9: 'j', 10: 'k', 11: 'l', 12: 'm', 13: 'n', 14: 'o', 15: 'p', 16: 'q', 17: 'r', 18: 's', 19: 't', 20: 'u', 21: 'v', 22: 'w', 23: 'x', 24: 'y', 25: 'z'}, inplace=True)        \n",
    "        \n",
    "    return df"
   ]
  },
  {
   "cell_type": "code",
   "execution_count": 7,
   "metadata": {},
   "outputs": [
    {
     "name": "stdout",
     "output_type": "stream",
     "text": [
      "('qu', 1067)\n",
      "an\n",
      "  Root2  Count2\n",
      "a    an    3151\n",
      "b    be    2063\n",
      "c    co    6357\n",
      "d    di    3471\n",
      "e    en    1611\n",
      "f    fo    1433\n",
      "g    ga    1209\n",
      "h    he    2297\n",
      "i    in    5237\n",
      "j    ja     339\n",
      "k    ki     395\n",
      "l    la    1553\n",
      "m    ma    2505\n",
      "n    no    3481\n",
      "o    ov    2195\n",
      "p    pr    5943\n",
      "q    qu    1067\n",
      "r    re    5371\n",
      "s    su    4153\n",
      "t    tr    3047\n",
      "u    un   14483\n",
      "v    ve     983\n",
      "w    wa     921\n",
      "x    xe     103\n",
      "y    ya     171\n",
      "z    zo     309\n"
     ]
    }
   ],
   "source": [
    "#example - getting the best root for 'q' obviously yields 'qu', and we learn it has 1067 words that start with 'qu'\n",
    "print(getRoots(createWordList('q'), 2))\n",
    "print(getRoots(createWordList('a'), 2)[0])\n",
    "print(bestRoots(2))"
   ]
  },
  {
   "cell_type": "code",
   "execution_count": 8,
   "metadata": {},
   "outputs": [
    {
     "name": "stdout",
     "output_type": "stream",
     "text": [
      "  Root1  Count1 Root2  Count2 Root3  Count3 Root4  Count4  Root5  Count5\n",
      "a     a   14537    an    3151   ant    1621  anti    1077  anthr     173\n",
      "b     b    9675    be    2063   bra     459  back     151  brach     109\n",
      "c     c   17405    co    6357   con    1895  coun     511  count     495\n",
      "d     d    9945    di    3471   dis    1687  disc     337  disco     179\n",
      "e     e    7817    en    1611   epi     567  elec     333  elect     331\n",
      "f     f    6381    fo    1433   for     885  fore     467  fores      99\n",
      "g     g    5843    ga    1209   gra     545  gast     199  gastr     181\n",
      "h     h    7889    he    2297   hyp    1033  hype     485  hyper     483\n",
      "i     i    8303    in    5237   int    1799  inte    1323  inter    1181\n",
      "j     j    1157    ja     339   jac      75  jack      41  justi      27\n",
      "k     k    1735    ki     395   kin     145  kera      67  kerat      49\n",
      "l     l    5211    la    1553   lit     237  lith     143  litho     113\n",
      "m     m   10709    ma    2505   mis     829  mono     529  micro     461\n",
      "n     n    6097    no    3481   non    2787  nonc     391  nonco     253\n",
      "o     o    7219    ov    2195   ove    2055  over    2043  overs     311\n",
      "p     p   22171    pr    5943   pre    3017  poly     699  pseud     587\n",
      "q     q    1075    qu    1067   qua     477  quin     221  quadr     213\n",
      "r     r    8955    re    5371   rec     757  reco     299  recon     135\n",
      "s     s   22759    su    4153   sub    1607  supe     999  super     997\n",
      "t     t   11389    tr    3047   tri    1195  tran     529  trans     499\n",
      "u     u   16179    un   14483   und    1899  unde    1333  under     959\n",
      "v     v    3079    ve     983   ver     383  vent     105  ventr      73\n",
      "w     w    3607    wa     921   whi     321  wood     101  water      79\n",
      "x     x     293    xe     103   xan      79  xant      79  xanth      80\n",
      "y     y     531    ya     171   you      49  yell      39  yello      35\n",
      "z     z     719    zo     309   zoo     213  zygo      61  zooph      29\n"
     ]
    }
   ],
   "source": [
    "#df = pd.DataFrame({'root':[getRoots(createWordList('a'), 2)[0], getRoots(createWordList('b'), 2)[0]]}, index = ['a', 'b'])\n",
    "df = bestRoots(1)\n",
    "i=2\n",
    "while True:\n",
    "    df = pd.concat([df, bestRoots(i)], axis=1, join = 'inner')\n",
    "    i = i + 1\n",
    "    if i > 5:\n",
    "        break\n",
    "               \n",
    "print(df)"
   ]
  },
  {
   "cell_type": "code",
   "execution_count": 93,
   "metadata": {},
   "outputs": [
    {
     "name": "stdout",
     "output_type": "stream",
     "text": [
      "['anthropomorph', 'anthropomorphic', 'anthropomorphical', 'anthropomorphically', 'anthropomorphism', 'anthropomorphist', 'anthropomorphite', 'anthropomorphitic', 'anthropomorphitical', 'anthropomorphitism', 'anthropomorphization', 'anthropomorphize', 'anthropomorphological', 'anthropomorphologically', 'anthropomorphology', 'anthropomorphosis', 'anthropomorphotheist', 'anthropomorphous', 'anthropomorphously']\n",
      "19\n"
     ]
    }
   ],
   "source": [
    "yellow = []\n",
    "for word in wordlist:\n",
    "    if word.startswith('anthropomo'):\n",
    "        yellow.append(word)\n",
    "print(yellow)\n",
    "print(len(yellow))"
   ]
  },
  {
   "cell_type": "code",
   "execution_count": 10,
   "metadata": {},
   "outputs": [
    {
     "data": {
      "text/html": [
       "<div>\n",
       "<style scoped>\n",
       "    .dataframe tbody tr th:only-of-type {\n",
       "        vertical-align: middle;\n",
       "    }\n",
       "\n",
       "    .dataframe tbody tr th {\n",
       "        vertical-align: top;\n",
       "    }\n",
       "\n",
       "    .dataframe thead th {\n",
       "        text-align: right;\n",
       "    }\n",
       "</style>\n",
       "<table border=\"1\" class=\"dataframe\">\n",
       "  <thead>\n",
       "    <tr style=\"text-align: right;\">\n",
       "      <th></th>\n",
       "      <th>Root4</th>\n",
       "      <th>Count4</th>\n",
       "    </tr>\n",
       "  </thead>\n",
       "  <tbody>\n",
       "    <tr>\n",
       "      <th>a</th>\n",
       "      <td>anti</td>\n",
       "      <td>1077</td>\n",
       "    </tr>\n",
       "    <tr>\n",
       "      <th>b</th>\n",
       "      <td>back</td>\n",
       "      <td>151</td>\n",
       "    </tr>\n",
       "    <tr>\n",
       "      <th>c</th>\n",
       "      <td>coun</td>\n",
       "      <td>511</td>\n",
       "    </tr>\n",
       "    <tr>\n",
       "      <th>d</th>\n",
       "      <td>disc</td>\n",
       "      <td>337</td>\n",
       "    </tr>\n",
       "    <tr>\n",
       "      <th>e</th>\n",
       "      <td>elec</td>\n",
       "      <td>333</td>\n",
       "    </tr>\n",
       "    <tr>\n",
       "      <th>f</th>\n",
       "      <td>fore</td>\n",
       "      <td>467</td>\n",
       "    </tr>\n",
       "    <tr>\n",
       "      <th>g</th>\n",
       "      <td>gast</td>\n",
       "      <td>199</td>\n",
       "    </tr>\n",
       "    <tr>\n",
       "      <th>h</th>\n",
       "      <td>hype</td>\n",
       "      <td>485</td>\n",
       "    </tr>\n",
       "    <tr>\n",
       "      <th>i</th>\n",
       "      <td>inte</td>\n",
       "      <td>1323</td>\n",
       "    </tr>\n",
       "    <tr>\n",
       "      <th>j</th>\n",
       "      <td>jack</td>\n",
       "      <td>41</td>\n",
       "    </tr>\n",
       "    <tr>\n",
       "      <th>k</th>\n",
       "      <td>kera</td>\n",
       "      <td>67</td>\n",
       "    </tr>\n",
       "    <tr>\n",
       "      <th>l</th>\n",
       "      <td>lith</td>\n",
       "      <td>143</td>\n",
       "    </tr>\n",
       "    <tr>\n",
       "      <th>m</th>\n",
       "      <td>mono</td>\n",
       "      <td>529</td>\n",
       "    </tr>\n",
       "    <tr>\n",
       "      <th>n</th>\n",
       "      <td>nonc</td>\n",
       "      <td>391</td>\n",
       "    </tr>\n",
       "    <tr>\n",
       "      <th>o</th>\n",
       "      <td>over</td>\n",
       "      <td>2043</td>\n",
       "    </tr>\n",
       "    <tr>\n",
       "      <th>p</th>\n",
       "      <td>poly</td>\n",
       "      <td>699</td>\n",
       "    </tr>\n",
       "    <tr>\n",
       "      <th>q</th>\n",
       "      <td>quin</td>\n",
       "      <td>221</td>\n",
       "    </tr>\n",
       "    <tr>\n",
       "      <th>r</th>\n",
       "      <td>reco</td>\n",
       "      <td>299</td>\n",
       "    </tr>\n",
       "    <tr>\n",
       "      <th>s</th>\n",
       "      <td>supe</td>\n",
       "      <td>999</td>\n",
       "    </tr>\n",
       "    <tr>\n",
       "      <th>t</th>\n",
       "      <td>tran</td>\n",
       "      <td>529</td>\n",
       "    </tr>\n",
       "    <tr>\n",
       "      <th>u</th>\n",
       "      <td>unde</td>\n",
       "      <td>1333</td>\n",
       "    </tr>\n",
       "    <tr>\n",
       "      <th>v</th>\n",
       "      <td>vent</td>\n",
       "      <td>105</td>\n",
       "    </tr>\n",
       "    <tr>\n",
       "      <th>w</th>\n",
       "      <td>wood</td>\n",
       "      <td>101</td>\n",
       "    </tr>\n",
       "    <tr>\n",
       "      <th>x</th>\n",
       "      <td>xant</td>\n",
       "      <td>79</td>\n",
       "    </tr>\n",
       "    <tr>\n",
       "      <th>y</th>\n",
       "      <td>yell</td>\n",
       "      <td>39</td>\n",
       "    </tr>\n",
       "    <tr>\n",
       "      <th>z</th>\n",
       "      <td>zygo</td>\n",
       "      <td>61</td>\n",
       "    </tr>\n",
       "  </tbody>\n",
       "</table>\n",
       "</div>"
      ],
      "text/plain": [
       "  Root4  Count4\n",
       "a  anti    1077\n",
       "b  back     151\n",
       "c  coun     511\n",
       "d  disc     337\n",
       "e  elec     333\n",
       "f  fore     467\n",
       "g  gast     199\n",
       "h  hype     485\n",
       "i  inte    1323\n",
       "j  jack      41\n",
       "k  kera      67\n",
       "l  lith     143\n",
       "m  mono     529\n",
       "n  nonc     391\n",
       "o  over    2043\n",
       "p  poly     699\n",
       "q  quin     221\n",
       "r  reco     299\n",
       "s  supe     999\n",
       "t  tran     529\n",
       "u  unde    1333\n",
       "v  vent     105\n",
       "w  wood     101\n",
       "x  xant      79\n",
       "y  yell      39\n",
       "z  zygo      61"
      ]
     },
     "execution_count": 10,
     "metadata": {},
     "output_type": "execute_result"
    }
   ],
   "source": [
    "#best four letter roots for all 26 letters\n",
    "bestRoots(4)"
   ]
  },
  {
   "cell_type": "code",
   "execution_count": 11,
   "metadata": {},
   "outputs": [
    {
     "data": {
      "text/html": [
       "<div>\n",
       "<style scoped>\n",
       "    .dataframe tbody tr th:only-of-type {\n",
       "        vertical-align: middle;\n",
       "    }\n",
       "\n",
       "    .dataframe tbody tr th {\n",
       "        vertical-align: top;\n",
       "    }\n",
       "\n",
       "    .dataframe thead th {\n",
       "        text-align: right;\n",
       "    }\n",
       "</style>\n",
       "<table border=\"1\" class=\"dataframe\">\n",
       "  <thead>\n",
       "    <tr style=\"text-align: right;\">\n",
       "      <th></th>\n",
       "      <th>Root3</th>\n",
       "      <th>Count3</th>\n",
       "    </tr>\n",
       "  </thead>\n",
       "  <tbody>\n",
       "    <tr>\n",
       "      <th>a</th>\n",
       "      <td>ant</td>\n",
       "      <td>1621</td>\n",
       "    </tr>\n",
       "    <tr>\n",
       "      <th>b</th>\n",
       "      <td>bra</td>\n",
       "      <td>459</td>\n",
       "    </tr>\n",
       "    <tr>\n",
       "      <th>c</th>\n",
       "      <td>con</td>\n",
       "      <td>1895</td>\n",
       "    </tr>\n",
       "    <tr>\n",
       "      <th>d</th>\n",
       "      <td>dis</td>\n",
       "      <td>1687</td>\n",
       "    </tr>\n",
       "    <tr>\n",
       "      <th>e</th>\n",
       "      <td>epi</td>\n",
       "      <td>567</td>\n",
       "    </tr>\n",
       "    <tr>\n",
       "      <th>f</th>\n",
       "      <td>for</td>\n",
       "      <td>885</td>\n",
       "    </tr>\n",
       "    <tr>\n",
       "      <th>g</th>\n",
       "      <td>gra</td>\n",
       "      <td>545</td>\n",
       "    </tr>\n",
       "    <tr>\n",
       "      <th>h</th>\n",
       "      <td>hyp</td>\n",
       "      <td>1033</td>\n",
       "    </tr>\n",
       "    <tr>\n",
       "      <th>i</th>\n",
       "      <td>int</td>\n",
       "      <td>1799</td>\n",
       "    </tr>\n",
       "    <tr>\n",
       "      <th>j</th>\n",
       "      <td>jac</td>\n",
       "      <td>75</td>\n",
       "    </tr>\n",
       "    <tr>\n",
       "      <th>k</th>\n",
       "      <td>kin</td>\n",
       "      <td>145</td>\n",
       "    </tr>\n",
       "    <tr>\n",
       "      <th>l</th>\n",
       "      <td>lit</td>\n",
       "      <td>237</td>\n",
       "    </tr>\n",
       "    <tr>\n",
       "      <th>m</th>\n",
       "      <td>mis</td>\n",
       "      <td>829</td>\n",
       "    </tr>\n",
       "    <tr>\n",
       "      <th>n</th>\n",
       "      <td>non</td>\n",
       "      <td>2787</td>\n",
       "    </tr>\n",
       "    <tr>\n",
       "      <th>o</th>\n",
       "      <td>ove</td>\n",
       "      <td>2055</td>\n",
       "    </tr>\n",
       "    <tr>\n",
       "      <th>p</th>\n",
       "      <td>pre</td>\n",
       "      <td>3017</td>\n",
       "    </tr>\n",
       "    <tr>\n",
       "      <th>q</th>\n",
       "      <td>qua</td>\n",
       "      <td>477</td>\n",
       "    </tr>\n",
       "    <tr>\n",
       "      <th>r</th>\n",
       "      <td>rec</td>\n",
       "      <td>757</td>\n",
       "    </tr>\n",
       "    <tr>\n",
       "      <th>s</th>\n",
       "      <td>sub</td>\n",
       "      <td>1607</td>\n",
       "    </tr>\n",
       "    <tr>\n",
       "      <th>t</th>\n",
       "      <td>tri</td>\n",
       "      <td>1195</td>\n",
       "    </tr>\n",
       "    <tr>\n",
       "      <th>u</th>\n",
       "      <td>und</td>\n",
       "      <td>1899</td>\n",
       "    </tr>\n",
       "    <tr>\n",
       "      <th>v</th>\n",
       "      <td>ver</td>\n",
       "      <td>383</td>\n",
       "    </tr>\n",
       "    <tr>\n",
       "      <th>w</th>\n",
       "      <td>whi</td>\n",
       "      <td>321</td>\n",
       "    </tr>\n",
       "    <tr>\n",
       "      <th>x</th>\n",
       "      <td>xan</td>\n",
       "      <td>79</td>\n",
       "    </tr>\n",
       "    <tr>\n",
       "      <th>y</th>\n",
       "      <td>you</td>\n",
       "      <td>49</td>\n",
       "    </tr>\n",
       "    <tr>\n",
       "      <th>z</th>\n",
       "      <td>zoo</td>\n",
       "      <td>213</td>\n",
       "    </tr>\n",
       "  </tbody>\n",
       "</table>\n",
       "</div>"
      ],
      "text/plain": [
       "  Root3  Count3\n",
       "a   ant    1621\n",
       "b   bra     459\n",
       "c   con    1895\n",
       "d   dis    1687\n",
       "e   epi     567\n",
       "f   for     885\n",
       "g   gra     545\n",
       "h   hyp    1033\n",
       "i   int    1799\n",
       "j   jac      75\n",
       "k   kin     145\n",
       "l   lit     237\n",
       "m   mis     829\n",
       "n   non    2787\n",
       "o   ove    2055\n",
       "p   pre    3017\n",
       "q   qua     477\n",
       "r   rec     757\n",
       "s   sub    1607\n",
       "t   tri    1195\n",
       "u   und    1899\n",
       "v   ver     383\n",
       "w   whi     321\n",
       "x   xan      79\n",
       "y   you      49\n",
       "z   zoo     213"
      ]
     },
     "execution_count": 11,
     "metadata": {},
     "output_type": "execute_result"
    }
   ],
   "source": [
    "#best three letter roots for all 26 letters\n",
    "bestRoots(3)"
   ]
  },
  {
   "cell_type": "code",
   "execution_count": 12,
   "metadata": {},
   "outputs": [],
   "source": [
    "def wordsWithThatRoot(root):\n",
    "    root_list = []\n",
    "    for word in wordlist:\n",
    "        if word.startswith(root):\n",
    "            root_list.append(word)\n",
    "        else:\n",
    "            continue\n",
    "\n",
    "    return root_list"
   ]
  },
  {
   "cell_type": "code",
   "execution_count": 13,
   "metadata": {},
   "outputs": [
    {
     "data": {
      "text/plain": [
       "True"
      ]
     },
     "execution_count": 13,
     "metadata": {},
     "output_type": "execute_result"
    }
   ],
   "source": [
    "brown_list = set(brown.words())\n",
    "'accommodate' in brown_list"
   ]
  },
  {
   "cell_type": "code",
   "execution_count": 14,
   "metadata": {},
   "outputs": [],
   "source": [
    "def countWithThatRoot(root):\n",
    "    root_list = []\n",
    "    for word in wordlist:\n",
    "        if word.startswith(root):\n",
    "            root_list.append(word)\n",
    "        else:\n",
    "            continue\n",
    "\n",
    "    return len(root_list)"
   ]
  },
  {
   "cell_type": "code",
   "execution_count": 15,
   "metadata": {},
   "outputs": [
    {
     "name": "stdout",
     "output_type": "stream",
     "text": [
      "['accombination', 'accommodable', 'accommodableness', 'accommodate', 'accommodately', 'accommodateness', 'accommodating', 'accommodatingly', 'accommodation', 'accommodational', 'accommodative', 'accommodativeness', 'accommodator', 'accompanier', 'accompaniment', 'accompanimental', 'accompanist', 'accompany', 'accompanyist', 'accompletive', 'accomplice', 'accompliceship', 'accomplicity', 'accomplish', 'accomplishable', 'accomplished', 'accomplisher', 'accomplishment', 'accomplisht', 'accompt']\n"
     ]
    }
   ],
   "source": [
    "print(wordsWithThatRoot('accom'))"
   ]
  },
  {
   "cell_type": "code",
   "execution_count": 26,
   "metadata": {},
   "outputs": [],
   "source": [
    "def getLetterBreakdown(word):\n",
    "    n = 1\n",
    "    total = 0\n",
    "    number = []\n",
    "    results = []\n",
    "    word_list = list(word)\n",
    "    for i in range(len(word_list)):\n",
    "        short = word[:n]\n",
    "        each = wordsWithThatRoot(short)\n",
    "        number = countWithThatRoot(short)\n",
    "        results.append(each)\n",
    "        if number == 1:\n",
    "            total = total + number\n",
    "            print(short + ' - ' + str(number) + \" \"+ str(', '.join(each)))\n",
    "            break\n",
    "        n = n + 1\n",
    "        total = total + number\n",
    "        if number < 100:\n",
    "            print(short + ' - ' + str(number) + \" \"+ str(', '.join(each)))\n",
    "        else:\n",
    "            print(short + ' - ' + str(number))\n",
    "    print(\"The total number of possible words for \" + word + \": \" + str(total))"
   ]
  },
  {
   "cell_type": "code",
   "execution_count": 27,
   "metadata": {},
   "outputs": [],
   "source": [
    "def getLetterCount(word):\n",
    "    n = 1\n",
    "    total = 0\n",
    "    number = []\n",
    "    results = []\n",
    "    word_list = list(word)\n",
    "    for i in range(len(word_list)):\n",
    "        short = word[:n]\n",
    "        number = countWithThatRoot(short)\n",
    "        if number == 1:\n",
    "            total = total + number\n",
    "            break\n",
    "        n = n + 1\n",
    "        total = total + number\n",
    "\n",
    "    return total"
   ]
  },
  {
   "cell_type": "code",
   "execution_count": 41,
   "metadata": {},
   "outputs": [
    {
     "name": "stdout",
     "output_type": "stream",
     "text": [
      "u - 16179\n",
      "un - 14484\n",
      "und - 1899\n",
      "unde - 1334\n",
      "under - 960\n",
      "underb - 73 underback, underbailiff, underbake, underbalance, underballast, underbank, underbarber, underbarring, underbasal, underbeadle, underbeak, underbeam, underbear, underbearer, underbearing, underbeat, underbeaten, underbed, underbelly, underbeveling, underbid, underbidder, underbill, underbillow, underbishop, underbishopric, underbit, underbite, underbitted, underbitten, underboard, underboated, underbodice, underbody, underboil, underboom, underborn, underborne, underbottom, underbough, underbought, underbound, underbowed, underbowser, underbox, underboy, underbrace, underbraced, underbranch, underbreath, underbreathing, underbred, underbreeding, underbrew, underbridge, underbrigadier, underbright, underbrim, underbrush, underbubble, underbud, underbuild, underbuilder, underbuilding, underbuoy, underburn, underburned, underburnt, underbursar, underbury, underbush, underbutler, underbuy\n",
      "The total number of possible words for underb: 34929\n"
     ]
    }
   ],
   "source": [
    "getLetterBreakdown(\"under\")"
   ]
  },
  {
   "cell_type": "code",
   "execution_count": 19,
   "metadata": {},
   "outputs": [
    {
     "data": {
      "text/plain": [
       "16072"
      ]
     },
     "execution_count": 19,
     "metadata": {},
     "output_type": "execute_result"
    }
   ],
   "source": [
    "getLetterCount(\"acanthopterygian\")"
   ]
  },
  {
   "cell_type": "code",
   "execution_count": 20,
   "metadata": {},
   "outputs": [],
   "source": [
    "def bestWord(words):\n",
    "    best_word = None\n",
    "    count = 0\n",
    "    for i in range(len(words)):\n",
    "        last_word = words[i-1]\n",
    "        current_word = words[i]\n",
    "        try:\n",
    "            if getLetterCount(current_word) > getLetterCount(best_word):\n",
    "                best_word = current_word\n",
    "                count = getLetterCount(current_word)\n",
    "            else:\n",
    "                continue\n",
    "        except:\n",
    "            best_word = current_word\n",
    "\n",
    "    return best_word, count"
   ]
  },
  {
   "cell_type": "code",
   "execution_count": 21,
   "metadata": {},
   "outputs": [
    {
     "name": "stdout",
     "output_type": "stream",
     "text": [
      "a: 14537\n",
      "b: 9675\n",
      "c: 17406\n",
      "d: 9946\n",
      "e: 7818\n",
      "f: 6382\n",
      "g: 5843\n",
      "h: 7889\n",
      "i: 8303\n",
      "j: 1158\n",
      "k: 1735\n",
      "l: 5211\n",
      "m: 10709\n",
      "n: 6098\n",
      "o: 7219\n",
      "p: 22171\n",
      "q: 1075\n",
      "r: 8955\n",
      "s: 22759\n",
      "t: 11389\n",
      "u: 16179\n",
      "v: 3079\n",
      "w: 3607\n",
      "x: 293\n",
      "y: 532\n",
      "z: 719\n"
     ]
    }
   ],
   "source": [
    "letterWordCount = []\n",
    "for letter in alphabet:\n",
    "    letterWordCount.append(tuple((letter, str(len(createWordList(letter))))))\n",
    "    print(letter + ': ' + str(len(createWordList(letter))))"
   ]
  },
  {
   "cell_type": "code",
   "execution_count": 24,
   "metadata": {
    "scrolled": true
   },
   "outputs": [
    {
     "name": "stdout",
     "output_type": "stream",
     "text": [
      "('preconcentratedly', 32100)\n"
     ]
    }
   ],
   "source": [
    "best_words = []\n",
    "for letter in alphabet[15]:\n",
    "    temp = bestWord(createWordList(letter))\n",
    "    print(temp)\n",
    "    best_words.append(temp)"
   ]
  },
  {
   "cell_type": "code",
   "execution_count": 48,
   "metadata": {},
   "outputs": [],
   "source": [
    "best_words2 = [('antiparliamentarist', 20641), ('bacterioscopically', 12285), ('contradictiously', 26519), ('discontinuously', 15751), ('extraterritoriality', 10335), ('forestaller', 9323), ('gastroenterological', 7935), ('hyperconscientiousness', 11860), ('intercommunication', 18192), ('jackassification', 1638), ('kinetographer', 2395), ('laryngoscopical', 7155), ('microcolorimetrically', 14430), ('nonconformistically', 13243), ('overstridently', 13928), ('preconcentratedly', 32100), ('quadricuspidal', 3238), ('reconciliatory', 15613), ('supersensualistic', 30454), ('transportational', 16688), ('understandableness', 35127), ('vermiculated', 4601), ('waterloggedness', 4843), ('xanthochromia', 709), ('yellowshanks', 854), ('zoophytological', 1363)]"
   ]
  },
  {
   "cell_type": "code",
   "execution_count": 49,
   "metadata": {},
   "outputs": [
    {
     "name": "stdout",
     "output_type": "stream",
     "text": [
      "[('antiparliamentarist', 20641), ('bacterioscopically', 12285), ('contradictiously', 26519), ('discontinuously', 15751), ('extraterritoriality', 10335), ('forestaller', 9323), ('gastroenterological', 7935), ('hyperconscientiousness', 11860), ('intercommunication', 18192), ('jackassification', 1638), ('kinetographer', 2395), ('laryngoscopical', 7155), ('microcolorimetrically', 14430), ('nonconformistically', 13243), ('overstridently', 13928), ('preconcentratedly', 32100), ('quadricuspidal', 3238), ('reconciliatory', 15613), ('supersensualistic', 30454), ('transportational', 16688), ('understandableness', 35127), ('vermiculated', 4601), ('waterloggedness', 4843), ('xanthochromia', 709), ('yellowshanks', 854), ('zoophytological', 1363)]\n"
     ]
    }
   ],
   "source": [
    "print(best_words2)"
   ]
  },
  {
   "cell_type": "code",
   "execution_count": 105,
   "metadata": {},
   "outputs": [],
   "source": [
    "fdist = FreqDist(i.lower() for i in brown.words())"
   ]
  },
  {
   "cell_type": "code",
   "execution_count": 223,
   "metadata": {},
   "outputs": [
    {
     "data": {
      "text/plain": [
       "0"
      ]
     },
     "execution_count": 223,
     "metadata": {},
     "output_type": "execute_result"
    }
   ],
   "source": [
    "fdist['zygozoospore']"
   ]
  },
  {
   "cell_type": "code",
   "execution_count": 231,
   "metadata": {},
   "outputs": [],
   "source": [
    "def mostRare(word_list):\n",
    "    best_word = None\n",
    "    for i in range(len(word_list)):\n",
    "        last_word = word_list[i-1]\n",
    "        current_word = word_list[i]\n",
    "        if i == 0:\n",
    "            best_word = current_word\n",
    "        if fdist[current_word] < fdist[best_word] and fdist[current_word] > 1:\n",
    "            best_word = current_word\n",
    "        if fdist[current_word] == fdist[best_word] and (len(current_word) > len(last_word)):\n",
    "            best_word = current_word\n",
    "        else:\n",
    "            continue\n",
    "\n",
    "    return best_word"
   ]
  },
  {
   "cell_type": "code",
   "execution_count": 236,
   "metadata": {},
   "outputs": [],
   "source": [
    "back_words = [w for w in nltk.corpus.words.words('en') if w.islower() and w.startswith('zoo')]"
   ]
  },
  {
   "cell_type": "code",
   "execution_count": 237,
   "metadata": {},
   "outputs": [
    {
     "name": "stdout",
     "output_type": "stream",
     "text": [
      "['zoo', 'zoobenthos', 'zooblast', 'zoocarp', 'zoocecidium', 'zoochemical', 'zoochemistry', 'zoochemy', 'zoochore', 'zoocoenocyte', 'zoocultural', 'zooculture', 'zoocurrent', 'zoocyst', 'zoocystic', 'zoocytial', 'zoocytium', 'zoodendria', 'zoodendrium', 'zoodynamic', 'zoodynamics', 'zooecia', 'zooecial', 'zooecium', 'zooerastia', 'zooerythrin', 'zoofulvin', 'zoogamete', 'zoogamous', 'zoogamy', 'zoogene', 'zoogenesis', 'zoogenic', 'zoogenous', 'zoogeny', 'zoogeographer', 'zoogeographic', 'zoogeographical', 'zoogeographically', 'zoogeography', 'zoogeological', 'zoogeologist', 'zoogeology', 'zoogloea', 'zoogloeal', 'zoogloeic', 'zoogonic', 'zoogonidium', 'zoogonous', 'zoogony', 'zoograft', 'zoografting', 'zoographer', 'zoographic', 'zoographical', 'zoographically', 'zoographist', 'zoography', 'zooid', 'zooidal', 'zooidiophilous', 'zooks', 'zoolater', 'zoolatria', 'zoolatrous', 'zoolatry', 'zoolite', 'zoolith', 'zoolithic', 'zoolitic', 'zoologer', 'zoologic', 'zoological', 'zoologically', 'zoologicoarchaeologist', 'zoologicobotanical', 'zoologist', 'zoologize', 'zoology', 'zoom', 'zoomagnetic', 'zoomagnetism', 'zoomancy', 'zoomania', 'zoomantic', 'zoomantist', 'zoomechanical', 'zoomechanics', 'zoomelanin', 'zoometric', 'zoometry', 'zoomimetic', 'zoomimic', 'zoomorph', 'zoomorphic', 'zoomorphism', 'zoomorphize', 'zoomorphy', 'zoon', 'zoonal', 'zoonerythrin', 'zoonic', 'zoonist', 'zoonite', 'zoonitic', 'zoonomia', 'zoonomic', 'zoonomical', 'zoonomist', 'zoonomy', 'zoonosis', 'zoonosologist', 'zoonosology', 'zoonotic', 'zoons', 'zoonule', 'zoopaleontology', 'zoopantheon', 'zooparasite', 'zooparasitic', 'zoopathological', 'zoopathologist', 'zoopathology', 'zoopathy', 'zooperal', 'zooperist', 'zoopery', 'zoophagan', 'zoophagous', 'zoopharmacological', 'zoopharmacy', 'zoophile', 'zoophilia', 'zoophilic', 'zoophilism', 'zoophilist', 'zoophilite', 'zoophilitic', 'zoophilous', 'zoophily', 'zoophobia', 'zoophobous', 'zoophoric', 'zoophorus', 'zoophysical', 'zoophysics', 'zoophysiology', 'zoophytal', 'zoophyte', 'zoophytic', 'zoophytical', 'zoophytish', 'zoophytography', 'zoophytoid', 'zoophytological', 'zoophytologist', 'zoophytology', 'zooplankton', 'zooplanktonic', 'zooplastic', 'zooplasty', 'zoopraxiscope', 'zoopsia', 'zoopsychological', 'zoopsychologist', 'zoopsychology', 'zooscopic', 'zooscopy', 'zoosis', 'zoosmosis', 'zoosperm', 'zoospermatic', 'zoospermia', 'zoospermium', 'zoosphere', 'zoosporange', 'zoosporangia', 'zoosporangial', 'zoosporangiophore', 'zoosporangium', 'zoospore', 'zoosporic', 'zoosporiferous', 'zoosporocyst', 'zoosporous', 'zootaxy', 'zootechnic', 'zootechnics', 'zootechny', 'zooter', 'zoothecia', 'zoothecial', 'zoothecium', 'zootheism', 'zootheist', 'zootheistic', 'zootherapy', 'zoothome', 'zootic', 'zootomic', 'zootomical', 'zootomically', 'zootomist', 'zootomy', 'zoototemism', 'zootoxin', 'zootrophic', 'zootrophy', 'zootype', 'zootypic', 'zooxanthella', 'zooxanthellae', 'zooxanthin', 'zoozoo']\n"
     ]
    }
   ],
   "source": [
    "print(back_words)"
   ]
  },
  {
   "cell_type": "code",
   "execution_count": 238,
   "metadata": {},
   "outputs": [
    {
     "name": "stdout",
     "output_type": "stream",
     "text": [
      "zoologist\n"
     ]
    }
   ],
   "source": [
    "print(mostRare(back_words))"
   ]
  },
  {
   "cell_type": "code",
   "execution_count": 241,
   "metadata": {},
   "outputs": [],
   "source": [
    "def bestRoots2(rootNumber):\n",
    "    '''\n",
    "    input: number for how many letters in root\n",
    "    output: the best root with the most off-shoot words for every letter, along with the count of how many off-shoot words\n",
    "    '''\n",
    "    root = []\n",
    "    for i in range(len(alphabet)):\n",
    "        rootLetters = getRoots(createWordList(alphabet[i]), rootNumber)\n",
    "        rareList = [w for w in nltk.corpus.words.words('en') if w.islower() and w.startswith(rootLetters[0])]\n",
    "        rareWord = mostRare(rareList)\n",
    "        root.append(tuple((rootLetters[0], rootLetters[1], rareWord)))\n",
    "    \n",
    "    df = pd.DataFrame(root)\n",
    "    df.columns = ['Root' + str(rootNumber), 'Count' + str(rootNumber), 'Rare Word' + str(rootNumber)]\n",
    "    df.rename(index = {0: 'a', 1: 'b', 2: 'c', 3: 'd', 4: 'e', 5: 'f', 6: 'g', 7: 'h', 8: 'i', 9: 'j', 10: 'k', 11: 'l', 12: 'm', 13: 'n', 14: 'o', 15: 'p', 16: 'q', 17: 'r', 18: 's', 19: 't', 20: 'u', 21: 'v', 22: 'w', 23: 'x', 24: 'y', 25: 'z'}, inplace=True)        \n",
    "        \n",
    "    return df"
   ]
  },
  {
   "cell_type": "code",
   "execution_count": 242,
   "metadata": {
    "scrolled": true
   },
   "outputs": [
    {
     "data": {
      "text/html": [
       "<div>\n",
       "<style scoped>\n",
       "    .dataframe tbody tr th:only-of-type {\n",
       "        vertical-align: middle;\n",
       "    }\n",
       "\n",
       "    .dataframe tbody tr th {\n",
       "        vertical-align: top;\n",
       "    }\n",
       "\n",
       "    .dataframe thead th {\n",
       "        text-align: right;\n",
       "    }\n",
       "</style>\n",
       "<table border=\"1\" class=\"dataframe\">\n",
       "  <thead>\n",
       "    <tr style=\"text-align: right;\">\n",
       "      <th></th>\n",
       "      <th>Root3</th>\n",
       "      <th>Count3</th>\n",
       "      <th>Rare Word3</th>\n",
       "    </tr>\n",
       "  </thead>\n",
       "  <tbody>\n",
       "    <tr>\n",
       "      <th>a</th>\n",
       "      <td>ant</td>\n",
       "      <td>1621</td>\n",
       "      <td>anthropologist</td>\n",
       "    </tr>\n",
       "    <tr>\n",
       "      <th>b</th>\n",
       "      <td>bra</td>\n",
       "      <td>459</td>\n",
       "      <td>brazilwood</td>\n",
       "    </tr>\n",
       "    <tr>\n",
       "      <th>c</th>\n",
       "      <td>con</td>\n",
       "      <td>1895</td>\n",
       "      <td>convincingly</td>\n",
       "    </tr>\n",
       "    <tr>\n",
       "      <th>d</th>\n",
       "      <td>dis</td>\n",
       "      <td>1687</td>\n",
       "      <td>disyllabic</td>\n",
       "    </tr>\n",
       "    <tr>\n",
       "      <th>e</th>\n",
       "      <td>epi</td>\n",
       "      <td>567</td>\n",
       "      <td>epizootiology</td>\n",
       "    </tr>\n",
       "    <tr>\n",
       "      <th>f</th>\n",
       "      <td>for</td>\n",
       "      <td>885</td>\n",
       "      <td>forthrightness</td>\n",
       "    </tr>\n",
       "    <tr>\n",
       "      <th>g</th>\n",
       "      <td>gra</td>\n",
       "      <td>545</td>\n",
       "      <td>grazingly</td>\n",
       "    </tr>\n",
       "    <tr>\n",
       "      <th>h</th>\n",
       "      <td>hyp</td>\n",
       "      <td>1033</td>\n",
       "      <td>hypsothermometer</td>\n",
       "    </tr>\n",
       "    <tr>\n",
       "      <th>i</th>\n",
       "      <td>int</td>\n",
       "      <td>1799</td>\n",
       "      <td>intussusception</td>\n",
       "    </tr>\n",
       "    <tr>\n",
       "      <th>j</th>\n",
       "      <td>jac</td>\n",
       "      <td>75</td>\n",
       "      <td>jaculiferous</td>\n",
       "    </tr>\n",
       "    <tr>\n",
       "      <th>k</th>\n",
       "      <td>kin</td>\n",
       "      <td>145</td>\n",
       "      <td>kin</td>\n",
       "    </tr>\n",
       "    <tr>\n",
       "      <th>l</th>\n",
       "      <td>lit</td>\n",
       "      <td>237</td>\n",
       "      <td>liturgical</td>\n",
       "    </tr>\n",
       "    <tr>\n",
       "      <th>m</th>\n",
       "      <td>mis</td>\n",
       "      <td>829</td>\n",
       "      <td>miszealous</td>\n",
       "    </tr>\n",
       "    <tr>\n",
       "      <th>n</th>\n",
       "      <td>non</td>\n",
       "      <td>2787</td>\n",
       "      <td>nonresidential</td>\n",
       "    </tr>\n",
       "    <tr>\n",
       "      <th>o</th>\n",
       "      <td>ove</td>\n",
       "      <td>2055</td>\n",
       "      <td>oversized</td>\n",
       "    </tr>\n",
       "    <tr>\n",
       "      <th>p</th>\n",
       "      <td>pre</td>\n",
       "      <td>3017</td>\n",
       "      <td>prezygapophysial</td>\n",
       "    </tr>\n",
       "    <tr>\n",
       "      <th>q</th>\n",
       "      <td>qua</td>\n",
       "      <td>477</td>\n",
       "      <td>quavering</td>\n",
       "    </tr>\n",
       "    <tr>\n",
       "      <th>r</th>\n",
       "      <td>rec</td>\n",
       "      <td>757</td>\n",
       "      <td>recycle</td>\n",
       "    </tr>\n",
       "    <tr>\n",
       "      <th>s</th>\n",
       "      <td>sub</td>\n",
       "      <td>1607</td>\n",
       "      <td>subdue</td>\n",
       "    </tr>\n",
       "    <tr>\n",
       "      <th>t</th>\n",
       "      <td>tri</td>\n",
       "      <td>1195</td>\n",
       "      <td>trizomal</td>\n",
       "    </tr>\n",
       "    <tr>\n",
       "      <th>u</th>\n",
       "      <td>und</td>\n",
       "      <td>1899</td>\n",
       "      <td>undyingness</td>\n",
       "    </tr>\n",
       "    <tr>\n",
       "      <th>v</th>\n",
       "      <td>ver</td>\n",
       "      <td>383</td>\n",
       "      <td>vernacular</td>\n",
       "    </tr>\n",
       "    <tr>\n",
       "      <th>w</th>\n",
       "      <td>whi</td>\n",
       "      <td>321</td>\n",
       "      <td>whizzingly</td>\n",
       "    </tr>\n",
       "    <tr>\n",
       "      <th>x</th>\n",
       "      <td>xan</td>\n",
       "      <td>79</td>\n",
       "      <td>xanthydrol</td>\n",
       "    </tr>\n",
       "    <tr>\n",
       "      <th>y</th>\n",
       "      <td>you</td>\n",
       "      <td>49</td>\n",
       "      <td>youngish</td>\n",
       "    </tr>\n",
       "    <tr>\n",
       "      <th>z</th>\n",
       "      <td>zoo</td>\n",
       "      <td>213</td>\n",
       "      <td>zoologist</td>\n",
       "    </tr>\n",
       "  </tbody>\n",
       "</table>\n",
       "</div>"
      ],
      "text/plain": [
       "  Root3  Count3        Rare Word3\n",
       "a   ant    1621    anthropologist\n",
       "b   bra     459        brazilwood\n",
       "c   con    1895      convincingly\n",
       "d   dis    1687        disyllabic\n",
       "e   epi     567     epizootiology\n",
       "f   for     885    forthrightness\n",
       "g   gra     545         grazingly\n",
       "h   hyp    1033  hypsothermometer\n",
       "i   int    1799   intussusception\n",
       "j   jac      75      jaculiferous\n",
       "k   kin     145               kin\n",
       "l   lit     237        liturgical\n",
       "m   mis     829        miszealous\n",
       "n   non    2787    nonresidential\n",
       "o   ove    2055         oversized\n",
       "p   pre    3017  prezygapophysial\n",
       "q   qua     477         quavering\n",
       "r   rec     757           recycle\n",
       "s   sub    1607            subdue\n",
       "t   tri    1195          trizomal\n",
       "u   und    1899       undyingness\n",
       "v   ver     383        vernacular\n",
       "w   whi     321        whizzingly\n",
       "x   xan      79        xanthydrol\n",
       "y   you      49          youngish\n",
       "z   zoo     213         zoologist"
      ]
     },
     "execution_count": 242,
     "metadata": {},
     "output_type": "execute_result"
    }
   ],
   "source": [
    "bestRoots2(3)"
   ]
  },
  {
   "cell_type": "code",
   "execution_count": 102,
   "metadata": {},
   "outputs": [
    {
     "name": "stdout",
     "output_type": "stream",
     "text": [
      "  Root1  Count1      Rarest Word1 Root2  Count2 Rarest Word2 Root3  Count3  \\\n",
      "a     a   14537           azymous    an    3151    anywither   ant    1621   \n",
      "b     b    9675            bywork    be    2063        bezzo   bra     459   \n",
      "c     c   17405          czarship    co    6357         cozy   con    1895   \n",
      "d     d    9945            dzeren    di    3471        dizzy   dis    1687   \n",
      "e     e    7817              ezba    en    1611    enzymotic   epi     567   \n",
      "f     f    6381              fyrd    fo    1433         fozy   for     885   \n",
      "g     g    5843              gyve    ga    1209     gazzetta   gra     545   \n",
      "h     h    7889  hystricomorphous    he    2297       heyday   hyp    1033   \n",
      "i     i    8303            izzard    in    5237       inyoke   int    1799   \n",
      "j     j    1157              jynx    ja     339        jazzy   jac      75   \n",
      "k     k    1735              kyte    ki     395         kiyi   kin     145   \n",
      "l     l    5211            lyxose    la    1553    lazzaroni   lit     237   \n",
      "m     m   10709       myzostomous    ma    2505      mazzard   mis     829   \n",
      "n     n    6097             nyxis    no    3481      nozzler   non    2787   \n",
      "o     o    7219           ozotype    ov    2195         ovum   ove    2055   \n",
      "p     p   22171             pyxis    pr    5943      prytany   pre    3017   \n",
      "q     q    1075            quotum    qu    1067       quotum   qua     477   \n",
      "r     r    8955         rytidosis    re    5371   rezbanyite   rec     757   \n",
      "s     s   22759          szopelka    su    4153   suzerainty   sub    1607   \n",
      "t     t   11389           tzontle    tr    3047     tryworks   tri    1195   \n",
      "u     u   16179            uzaron    un   14483      unzoned   und    1899   \n",
      "v     v    3079           vyingly    ve     983         vext   ver     383   \n",
      "w     w    3607             wyver    wa     921    wayzgoose   whi     321   \n",
      "x     x     293            xystus    xe     103  xerotripsis   xan      79   \n",
      "y     y     531            yuzluk    ya     171         yaya   you      49   \n",
      "z     z     719            zythum    zo     309        zowie   zoo     213   \n",
      "\n",
      "    Rarest Word3 Root4  Count4     Rarest Word4  \n",
      "a        antwise  anti    1077      antizymotic  \n",
      "b     brazilwood  back     151       backyarder  \n",
      "c       conyrine  coun     511           county  \n",
      "d        disyoke  disc     337       discutient  \n",
      "e  epizootiology  elec     333        electuary  \n",
      "f      forworden  fore     467         foreyear  \n",
      "g      grazingly  gast     199     gastrulation  \n",
      "h        hypural  hype     485        hypethral  \n",
      "i        intwist  inte    1323        intexture  \n",
      "j      jacutinga  jack      41         jackwood  \n",
      "k         kintar  kera      67     keraunoscopy  \n",
      "l           litz  lith     143            lithy  \n",
      "m     miszealous  mono     529      monozygotic  \n",
      "n  nonzoological  nonc     391      noncyclical  \n",
      "o           ovey  over    2043  overzealousness  \n",
      "p   prezygomatic  poly     699         polyzoon  \n",
      "q      quaysider  quin     221        quinzieme  \n",
      "r        recycle  reco     299         recovery  \n",
      "s   subzygomatic  supe     999     superzealous  \n",
      "t        trizone  tran     529         trantlum  \n",
      "u    undyingness  unde    1333     undextrously  \n",
      "v           very  vent     105    venturousness  \n",
      "w        whizzle  wood     101         woodyard  \n",
      "x        xanthyl  xant      79          xanthyl  \n",
      "y          youze  yell      39          yellowy  \n",
      "z         zoozoo  zygo      61     zygozoospore  \n"
     ]
    }
   ],
   "source": [
    "df = bestRoots2(1)\n",
    "i=2\n",
    "while True:\n",
    "    df = pd.concat([df, bestRoots2(i)], axis=1, join = 'inner')\n",
    "    i = i + 1\n",
    "    if i > 4:\n",
    "        break\n",
    "               \n",
    "print(df)"
   ]
  },
  {
   "cell_type": "code",
   "execution_count": null,
   "metadata": {},
   "outputs": [],
   "source": []
  }
 ],
 "metadata": {
  "kernelspec": {
   "display_name": "Python 3",
   "language": "python",
   "name": "python3"
  },
  "language_info": {
   "codemirror_mode": {
    "name": "ipython",
    "version": 3
   },
   "file_extension": ".py",
   "mimetype": "text/x-python",
   "name": "python",
   "nbconvert_exporter": "python",
   "pygments_lexer": "ipython3",
   "version": "3.7.0"
  }
 },
 "nbformat": 4,
 "nbformat_minor": 2
}
