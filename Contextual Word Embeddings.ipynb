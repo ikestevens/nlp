{
 "cells": [
  {
   "cell_type": "code",
   "execution_count": 9,
   "metadata": {},
   "outputs": [],
   "source": [
    "from flair.embeddings import BertEmbeddings\n",
    "from flair.data import Sentence, Token\n",
    "from flair.models import TextClassifier"
   ]
  },
  {
   "cell_type": "code",
   "execution_count": 3,
   "metadata": {},
   "outputs": [
    {
     "name": "stdout",
     "output_type": "stream",
     "text": [
      "2019-08-26 16:50:22,802 https://s3.eu-central-1.amazonaws.com/alan-nlp/resources/embeddings-v0.4.1/big-news-forward--h2048-l1-d0.05-lr30-0.25-20/news-forward-0.4.1.pt not found in cache, downloading to C:\\Users\\ISSTEV~1\\AppData\\Local\\Temp\\tmp6xqqyyi0\n"
     ]
    },
    {
     "name": "stderr",
     "output_type": "stream",
     "text": [
      "100%|██████████████████████████████████████████████████████████████████████████████████████████████████| 73034624/73034624 [00:21<00:00, 3345160.78B/s]\n"
     ]
    },
    {
     "name": "stdout",
     "output_type": "stream",
     "text": [
      "2019-08-26 16:50:45,205 copying C:\\Users\\ISSTEV~1\\AppData\\Local\\Temp\\tmp6xqqyyi0 to cache at C:\\Users\\isstevens\\.flair\\embeddings\\news-forward-0.4.1.pt\n",
      "2019-08-26 16:50:45,551 removing temp file C:\\Users\\ISSTEV~1\\AppData\\Local\\Temp\\tmp6xqqyyi0\n"
     ]
    }
   ],
   "source": [
    "# init embedding\n",
    "flair_embedding_forward = FlairEmbeddings('news-forward')"
   ]
  },
  {
   "cell_type": "code",
   "execution_count": 2,
   "metadata": {},
   "outputs": [
    {
     "name": "stderr",
     "output_type": "stream",
     "text": [
      "100%|██████████████████████████████████████████████████████████████████████████████████████████████████████| 231508/231508 [00:00<00:00, 4551447.58B/s]\n",
      "100%|██████████████████████████████████████████████████████████████████████████████████████████████████████████████| 313/313 [00:00<00:00, 78461.46B/s]\n",
      "100%|████████████████████████████████████████████████████████████████████████████████████████████████| 440473133/440473133 [01:32<00:00, 4782079.38B/s]\n"
     ]
    }
   ],
   "source": [
    "embedding = BertEmbeddings()"
   ]
  },
  {
   "cell_type": "code",
   "execution_count": 6,
   "metadata": {},
   "outputs": [],
   "source": [
    "sentence = Sentence('The grass is green.')"
   ]
  },
  {
   "cell_type": "code",
   "execution_count": 7,
   "metadata": {},
   "outputs": [
    {
     "data": {
      "text/plain": [
       "[Sentence: \"The grass is green.\" - 4 Tokens]"
      ]
     },
     "execution_count": 7,
     "metadata": {},
     "output_type": "execute_result"
    }
   ],
   "source": [
    "embedding.embed(sentence)"
   ]
  },
  {
   "cell_type": "code",
   "execution_count": 8,
   "metadata": {},
   "outputs": [
    {
     "name": "stdout",
     "output_type": "stream",
     "text": [
      "Token: 1 The\n",
      "tensor([-0.0323, -0.3904, -1.1946,  ...,  0.1305, -0.1365, -0.4323])\n",
      "Token: 2 grass\n",
      "tensor([-0.3973,  0.2652, -0.1337,  ...,  0.3715,  0.1097, -1.1625])\n",
      "Token: 3 is\n",
      "tensor([ 0.1374, -0.3688, -0.8292,  ...,  0.2533,  0.0294,  0.4293])\n",
      "Token: 4 green.\n",
      "tensor([-0.7722, -0.1152,  0.3661,  ...,  0.1575, -0.0682, -0.7661])\n"
     ]
    }
   ],
   "source": [
    "for token in sentence:\n",
    "    print(token)\n",
    "    print(token.embedding)"
   ]
  },
  {
   "cell_type": "code",
   "execution_count": 10,
   "metadata": {},
   "outputs": [
    {
     "name": "stdout",
     "output_type": "stream",
     "text": [
      "2019-08-26 17:00:33,941 https://s3.eu-central-1.amazonaws.com/alan-nlp/resources/models-v0.4/classy-imdb-en-rnn-cuda%3A0/imdb-v0.4.pt not found in cache, downloading to C:\\Users\\ISSTEV~1\\AppData\\Local\\Temp\\tmp1jlb48ky\n"
     ]
    },
    {
     "name": "stderr",
     "output_type": "stream",
     "text": [
      "100%|██████████████████████████████████████████████████████████████████████████████████████████████| 1501979561/1501979561 [05:23<00:00, 4649727.83B/s]\n"
     ]
    },
    {
     "name": "stdout",
     "output_type": "stream",
     "text": [
      "2019-08-26 17:05:57,531 copying C:\\Users\\ISSTEV~1\\AppData\\Local\\Temp\\tmp1jlb48ky to cache at C:\\Users\\isstevens\\.flair\\models\\imdb-v0.4.pt\n",
      "2019-08-26 17:06:07,552 removing temp file C:\\Users\\ISSTEV~1\\AppData\\Local\\Temp\\tmp1jlb48ky\n",
      "2019-08-26 17:06:07,621 loading file C:\\Users\\isstevens\\.flair\\models\\imdb-v0.4.pt\n"
     ]
    }
   ],
   "source": [
    "classifier = TextClassifier.load('en-sentiment')"
   ]
  },
  {
   "cell_type": "code",
   "execution_count": 20,
   "metadata": {},
   "outputs": [
    {
     "name": "stdout",
     "output_type": "stream",
     "text": [
      "Sentence above is:  [POSITIVE (0.9933878183364868)]\n"
     ]
    }
   ],
   "source": [
    "sentence2 = Sentence('I love her')\n",
    "classifier.predict(sentence2)\n",
    "print('Sentence above is: ', sentence2.labels)"
   ]
  },
  {
   "cell_type": "code",
   "execution_count": 26,
   "metadata": {},
   "outputs": [
    {
     "name": "stdout",
     "output_type": "stream",
     "text": [
      "tensor([])\n"
     ]
    }
   ],
   "source": [
    "print(sentence2[1].embedding)"
   ]
  },
  {
   "cell_type": "code",
   "execution_count": null,
   "metadata": {},
   "outputs": [],
   "source": []
  }
 ],
 "metadata": {
  "kernelspec": {
   "display_name": "Python 3",
   "language": "python",
   "name": "python3"
  },
  "language_info": {
   "codemirror_mode": {
    "name": "ipython",
    "version": 3
   },
   "file_extension": ".py",
   "mimetype": "text/x-python",
   "name": "python",
   "nbconvert_exporter": "python",
   "pygments_lexer": "ipython3",
   "version": "3.7.0"
  }
 },
 "nbformat": 4,
 "nbformat_minor": 2
}
